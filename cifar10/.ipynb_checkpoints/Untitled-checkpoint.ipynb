{
 "cells": [
  {
   "cell_type": "code",
   "execution_count": 1,
   "metadata": {
    "collapsed": false
   },
   "outputs": [],
   "source": [
    "import sys\n",
    "import gzip\n",
    "import time\n",
    "import pickle\n",
    "import numpy as np\n",
    "\n",
    "import theano\n",
    "from theano import tensor as T\n",
    "\n",
    "import lasagne\n",
    "from lasagne.updates import nesterov_momentum, adam\n",
    "from lasagne.layers import helper\n",
    "from models import ResNet_FullPre_Wide as ResNet\n",
    "from utils import load_pickle_data_cv, batch_iterator_valid, batch_iterator_train_crop_flip\n",
    "%matplotlib inline\n",
    "from matplotlib import pyplot"
   ]
  },
  {
   "cell_type": "code",
   "execution_count": 2,
   "metadata": {
    "collapsed": true
   },
   "outputs": [],
   "source": [
    "X = T.tensor4('X')\n",
    "Y = T.ivector('y')"
   ]
  },
  {
   "cell_type": "code",
   "execution_count": 3,
   "metadata": {
    "collapsed": true
   },
   "outputs": [],
   "source": [
    "depth = 6\n",
    "width = 10\n",
    "output_layer = ResNet(X, n=depth, k=width)"
   ]
  },
  {
   "cell_type": "code",
   "execution_count": 4,
   "metadata": {
    "collapsed": false
   },
   "outputs": [],
   "source": [
    "feature_layer = lasagne.layers.get_all_layers(output_layer)[-2]\n",
    "feature = lasagne.layers.get_output(feature_layer)"
   ]
  },
  {
   "cell_type": "code",
   "execution_count": 5,
   "metadata": {
    "collapsed": false
   },
   "outputs": [
    {
     "data": {
      "text/plain": [
       "(None, 640)"
      ]
     },
     "execution_count": 5,
     "metadata": {},
     "output_type": "execute_result"
    }
   ],
   "source": [
    "lasagne.layers.get_output_shape(feature_layer)"
   ]
  },
  {
   "cell_type": "code",
   "execution_count": 6,
   "metadata": {
    "collapsed": false,
    "scrolled": true
   },
   "outputs": [
    {
     "name": "stdout",
     "output_type": "stream",
     "text": [
      "[[[ 130.68655396  130.10546875  131.00730896 ...,  131.13044739\n",
      "    130.46455383  130.2585144 ]\n",
      "  [ 130.07684326  129.30218506  130.16917419 ...,  130.11120605\n",
      "    129.40142822  129.24234009]\n",
      "  [ 129.69766235  128.66070557  129.42695618 ...,  129.22239685\n",
      "    128.60726929  128.64715576]\n",
      "  ..., \n",
      "  [ 126.5687561   124.60520172  123.93291473 ...,  124.20082092\n",
      "    124.64533234  125.49713135]\n",
      "  [ 127.11519623  125.53757477  125.33624268 ...,  125.46095276\n",
      "    125.54613495  125.95500183]\n",
      "  [ 127.80984497  126.69049072  126.95684814 ...,  126.73840332\n",
      "    126.52495575  126.59886932]]\n",
      "\n",
      " [[ 136.05722046  135.43437195  136.2149353  ...,  136.3591156\n",
      "    135.76197815  135.53715515]\n",
      "  [ 135.30397034  134.44544983  135.14733887 ...,  135.1741333\n",
      "    134.60409546  134.44535828]\n",
      "  [ 134.64828491  133.46908569  134.04020691 ...,  133.9420929\n",
      "    133.53291321  133.59544373]\n",
      "  ..., \n",
      "  [ 125.98253632  123.77459717  122.83339691 ...,  122.98991394\n",
      "    123.72742462  124.86979675]\n",
      "  [ 126.43002319  124.66497803  124.25428772 ...,  124.32360077\n",
      "    124.62115479  125.25533295]\n",
      "  [ 127.04066467  125.75617981  125.85551453 ...,  125.67622375\n",
      "    125.59008789  125.82026672]]\n",
      "\n",
      " [[ 132.45309448  131.73387146  132.44369507 ...,  132.4148407\n",
      "    131.96102905  131.86880493]\n",
      "  [ 131.26412964  130.33511353  130.97071838 ...,  130.8565979\n",
      "    130.44813538  130.425354  ]\n",
      "  [ 130.13021851  128.86773682  129.35786438 ...,  129.20864868\n",
      "    128.97631836  129.18566895]\n",
      "  ..., \n",
      "  [ 114.1361084   111.77304077  110.72244263 ...,  110.79817963\n",
      "    111.68771362  113.0777359 ]\n",
      "  [ 114.66113281  112.7277298   112.19329071 ...,  112.19553375\n",
      "    112.65444183  113.5423584 ]\n",
      "  [ 115.49537659  114.02926636  113.99737549 ...,  113.77488708\n",
      "    113.85231018  114.33399963]]]\n"
     ]
    }
   ],
   "source": [
    "train_X, test_X, train_y, test_y = load_pickle_data_cv()"
   ]
  },
  {
   "cell_type": "code",
   "execution_count": 7,
   "metadata": {
    "collapsed": false
   },
   "outputs": [],
   "source": [
    "def iterate_minibatches(inputs, targets, batchsize, shuffle=False):\n",
    "    assert len(inputs) == len(targets)\n",
    "    if shuffle:\n",
    "        indices = np.arange(len(inputs))\n",
    "        np.random.shuffle(indices)\n",
    "    for start_idx in range(0, len(inputs) - batchsize + 1, batchsize):\n",
    "        if shuffle:\n",
    "            excerpt = indices[start_idx:start_idx + batchsize]\n",
    "        else:\n",
    "            excerpt = slice(start_idx, start_idx + batchsize)\n",
    "        yield inputs[excerpt], targets[excerpt]"
   ]
  },
  {
   "cell_type": "code",
   "execution_count": 8,
   "metadata": {
    "collapsed": false
   },
   "outputs": [],
   "source": [
    "get_features = theano.function(inputs=[X], outputs=feature)"
   ]
  },
  {
   "cell_type": "code",
   "execution_count": 9,
   "metadata": {
    "collapsed": false,
    "scrolled": true
   },
   "outputs": [
    {
     "name": "stdout",
     "output_type": "stream",
     "text": [
      "1\n",
      "2\n",
      "3\n",
      "4\n",
      "5\n",
      "6\n",
      "7\n",
      "8\n",
      "9\n",
      "10\n",
      "11\n",
      "12\n",
      "13\n",
      "14\n",
      "15\n",
      "16\n",
      "17\n",
      "18\n",
      "19\n",
      "20\n",
      "21\n",
      "22\n",
      "23\n",
      "24\n",
      "25\n",
      "26\n",
      "27\n",
      "28\n",
      "29\n",
      "30\n",
      "31\n",
      "32\n",
      "33\n",
      "34\n",
      "35\n",
      "36\n",
      "37\n",
      "38\n",
      "39\n",
      "40\n",
      "41\n",
      "42\n",
      "43\n",
      "44\n",
      "45\n",
      "46\n",
      "47\n",
      "48\n",
      "49\n",
      "50\n",
      "51\n",
      "52\n",
      "53\n",
      "54\n",
      "55\n",
      "56\n",
      "57\n",
      "58\n",
      "59\n",
      "60\n",
      "61\n",
      "62\n",
      "63\n",
      "64\n",
      "65\n",
      "66\n",
      "67\n",
      "68\n",
      "69\n",
      "70\n",
      "71\n",
      "72\n",
      "73\n",
      "74\n",
      "75\n",
      "76\n",
      "77\n",
      "78\n",
      "79\n",
      "80\n",
      "81\n",
      "82\n",
      "83\n",
      "84\n",
      "85\n",
      "86\n",
      "87\n",
      "88\n",
      "89\n",
      "90\n"
     ]
    }
   ],
   "source": [
    "X_feature = np.zeros((45000,640))\n",
    "i = 0\n",
    "batch_size = 500\n",
    "for batch in iterate_minibatches(train_X, train_y, batch_size, shuffle=False):\n",
    "    inputs, targets = batch\n",
    "    b = get_features(inputs)\n",
    "    X_feature[batch_size*i:batch_size*(i+1)] = b\n",
    "    i+=1\n",
    "    print(i)\n",
    "np.savez('./train_data.npz', X_feature)"
   ]
  },
  {
   "cell_type": "code",
   "execution_count": 11,
   "metadata": {
    "collapsed": false
   },
   "outputs": [
    {
     "name": "stdout",
     "output_type": "stream",
     "text": [
      "1\n",
      "2\n",
      "3\n",
      "4\n",
      "5\n",
      "6\n",
      "7\n",
      "8\n",
      "9\n",
      "10\n"
     ]
    }
   ],
   "source": [
    "test_feature = np.zeros((5000,640))\n",
    "i = 0\n",
    "batch_size = 500\n",
    "for batch in iterate_minibatches(test_X, test_y, batch_size, shuffle=False):\n",
    "    inputs, targets = batch\n",
    "    b = get_features(inputs)\n",
    "    X_feature[batch_size*i:batch_size*(i+1)] = b\n",
    "    i+=1\n",
    "    print(i)\n",
    "np.savez('./test_data.npz', test_feature)"
   ]
  },
  {
   "cell_type": "code",
   "execution_count": 17,
   "metadata": {
    "collapsed": false
   },
   "outputs": [],
   "source": [
    "def train_and_eval( model, train_x, train_y, test_x, test_y ):\n",
    "    model.fit( train_x, train_y )\n",
    "    p = model.predict( test_x )\n",
    "    OA = sum(test_y==p)/len(test_y)\n",
    "    return OA\n",
    "import sklearn\n",
    "Svm=svm.SVC(kernel='linear',C=1,shrinking=False)\n",
    "svm_auc = train_and_eval( Svm, X_feature, train_y, \\\n",
    "        test_feature, test_y )\n"
   ]
  },
  {
   "cell_type": "code",
   "execution_count": 18,
   "metadata": {
    "collapsed": false
   },
   "outputs": [
    {
     "data": {
      "text/plain": [
       "0.105"
      ]
     },
     "execution_count": 18,
     "metadata": {},
     "output_type": "execute_result"
    }
   ],
   "source": [
    "svm_auc"
   ]
  },
  {
   "cell_type": "code",
   "execution_count": null,
   "metadata": {
    "collapsed": true
   },
   "outputs": [],
   "source": []
  }
 ],
 "metadata": {
  "kernelspec": {
   "display_name": "Python 3",
   "language": "python",
   "name": "python3"
  },
  "language_info": {
   "codemirror_mode": {
    "name": "ipython",
    "version": 3
   },
   "file_extension": ".py",
   "mimetype": "text/x-python",
   "name": "python",
   "nbconvert_exporter": "python",
   "pygments_lexer": "ipython3",
   "version": "3.5.0"
  }
 },
 "nbformat": 4,
 "nbformat_minor": 0
}
