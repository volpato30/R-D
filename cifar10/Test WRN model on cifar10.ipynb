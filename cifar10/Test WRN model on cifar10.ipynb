{
 "cells": [
  {
   "cell_type": "code",
   "execution_count": 5,
   "metadata": {
    "collapsed": false
   },
   "outputs": [
    {
     "name": "stdout",
     "output_type": "stream",
     "text": [
      "Using %s ResNet with depth %d and width %d.\n"
     ]
    }
   ],
   "source": [
    "import os\n",
    "import sys\n",
    "import gzip\n",
    "import time\n",
    "import pickle\n",
    "import datetime\n",
    "import random\n",
    "import numpy as np\n",
    "import pandas as pd\n",
    "\n",
    "import theano\n",
    "from theano import tensor as T\n",
    "\n",
    "import lasagne\n",
    "from lasagne.updates import nesterov_momentum, adam\n",
    "from lasagne.layers import helper\n",
    "\n",
    "from utils import load_pickle_data_test, load_pickle_data_cv\n",
    "\n",
    "variant = 'wide'\n",
    "depth = 3\n",
    "width = 8"
   ]
  },
  {
   "cell_type": "code",
   "execution_count": 6,
   "metadata": {
    "collapsed": true
   },
   "outputs": [],
   "source": [
    "if variant == 'normal':\n",
    "    from models import ResNet_FullPreActivation as ResNet\n",
    "elif variant == 'bottleneck':\n",
    "    from models import ResNet_BottleNeck_FullPreActivation as ResNet\n",
    "elif variant == 'wide':\n",
    "    from models import ResNet_FullPre_Wide as ResNet\n",
    "else:\n",
    "    print ('Unsupported model %s' % variant)\n"
   ]
  },
  {
   "cell_type": "code",
   "execution_count": 7,
   "metadata": {
    "collapsed": false
   },
   "outputs": [
    {
     "name": "stdout",
     "output_type": "stream",
     "text": [
      "(10000,)\n",
      "Accuracy on the testing set,  0.9542\n"
     ]
    }
   ],
   "source": [
    "BATCHSIZE = 1\n",
    "\n",
    "'''\n",
    "Set up all theano functions\n",
    "'''\n",
    "X = T.tensor4('X')\n",
    "Y = T.ivector('y')\n",
    "\n",
    "# set up theano functions to generate output by feeding data through network, any test outputs should be deterministic\n",
    "# load model\n",
    "if width > 1:\n",
    "    output_layer = ResNet(X, n=depth, k=width)\n",
    "else:\n",
    "    output_layer = ResNet(X, n=depth)\n",
    "output_test = lasagne.layers.get_output(output_layer, deterministic=True)\n",
    "\n",
    "output_class = T.argmax(output_test, axis=1)\n",
    "\n",
    "# set up training and prediction functions\n",
    "predict_proba = theano.function(inputs=[X], outputs=output_test)\n",
    "predict_class = theano.function(inputs=[X], outputs=output_class)\n",
    "\n",
    "'''\n",
    "Load data and make predictions\n",
    "'''\n",
    "test_X, test_y = load_pickle_data_test()\n",
    "\n",
    "# load network weights\n",
    "f = gzip.open('weights/%s%d_resnet.pklz'%(variant,depth), 'rb')\n",
    "all_params = pickle.load(f, encoding='latin1')\n",
    "f.close()\n",
    "helper.set_all_param_values(output_layer, all_params)\n",
    "\n",
    "#make predictions\n",
    "pred_labels = []\n",
    "for j in range((test_X.shape[0] + BATCHSIZE - 1) // BATCHSIZE):\n",
    "    sl = slice(j * BATCHSIZE, (j + 1) * BATCHSIZE)\n",
    "    X_batch = test_X[sl]\n",
    "    pred_labels.extend(predict_class(X_batch))\n",
    "\n",
    "pred_labels = np.array(pred_labels)\n",
    "print(pred_labels.shape)\n",
    "\n",
    "'''\n",
    "Compare differences\n",
    "'''\n",
    "same = 0\n",
    "for i in range(pred_labels.shape[0]):\n",
    "    if test_y[i] == pred_labels[i]:\n",
    "        same += 1\n",
    "\n",
    "print('Accuracy on the testing set, ', (float(same) / float(pred_labels.shape[0])))"
   ]
  },
  {
   "cell_type": "code",
   "execution_count": null,
   "metadata": {
    "collapsed": true
   },
   "outputs": [],
   "source": []
  },
  {
   "cell_type": "code",
   "execution_count": null,
   "metadata": {
    "collapsed": true
   },
   "outputs": [],
   "source": []
  }
 ],
 "metadata": {
  "kernelspec": {
   "display_name": "Python 3",
   "language": "python",
   "name": "python3"
  },
  "language_info": {
   "codemirror_mode": {
    "name": "ipython",
    "version": 3
   },
   "file_extension": ".py",
   "mimetype": "text/x-python",
   "name": "python",
   "nbconvert_exporter": "python",
   "pygments_lexer": "ipython3",
   "version": "3.5.2"
  }
 },
 "nbformat": 4,
 "nbformat_minor": 1
}
