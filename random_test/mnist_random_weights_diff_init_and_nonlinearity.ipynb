{
 "cells": [
  {
   "cell_type": "markdown",
   "metadata": {},
   "source": [
    "# MNIST test accuracy    SVM: 92.450%  LR: 91.230%\n",
    "# MNIST first 16 pcomp test accuracy    SVM: 88.335%  LR: 82.710%\n",
    "# MNIST first 256 pcomp test accuracy    SVM: 92.795%  LR: 90.850%"
   ]
  },
  {
   "cell_type": "code",
   "execution_count": 1,
   "metadata": {
    "collapsed": false,
    "scrolled": true
   },
   "outputs": [
    {
     "name": "stderr",
     "output_type": "stream",
     "text": [
      "Using gpu device 0: GeForce GTX 750 Ti (CNMeM is disabled, cuDNN Version is too old. Update to v5, was 3007.)\n"
     ]
    }
   ],
   "source": [
    "import sys\n",
    "import os\n",
    "import time\n",
    "import numpy as np\n",
    "import theano\n",
    "import theano.tensor as T\n",
    "import lasagne\n",
    "import sklearn\n",
    "from sklearn.linear_model import LogisticRegression as LR\n"
   ]
  },
  {
   "cell_type": "code",
   "execution_count": 2,
   "metadata": {
    "collapsed": true
   },
   "outputs": [],
   "source": [
    "from mnist import iterate_minibatches, load_dataset"
   ]
  },
  {
   "cell_type": "code",
   "execution_count": 3,
   "metadata": {
    "collapsed": false
   },
   "outputs": [],
   "source": [
    "X_train, y_train, X_val, y_val, X_test, y_test = load_dataset()"
   ]
  },
  {
   "cell_type": "code",
   "execution_count": 4,
   "metadata": {
    "collapsed": false
   },
   "outputs": [],
   "source": [
    "def build_cnn(input_var=None, num_conv = 32, mid_neurons = 256, initializer = lasagne.init.Normal,\\\n",
    "              nonlinearity=lasagne.nonlinearities.rectify):\n",
    "    # As a third model, we'll create a CNN of two convolution + pooling stages\n",
    "    # and a fully-connected hidden layer in front of the output layer.\n",
    "\n",
    "    # Input layer, as usual:\n",
    "    network = lasagne.layers.InputLayer(shape=(None, 1, 28, 28),\n",
    "                                        input_var=input_var)\n",
    "    # This time we do not apply input dropout, as it tends to work less well\n",
    "    # for convolutional layers.\n",
    "\n",
    "    # Convolutional layer with 32 kernels of size 5x5. Strided and padded\n",
    "    # convolutions are supported as well; see the docstring.\n",
    "    network = lasagne.layers.Conv2DLayer(\n",
    "            network, num_filters=num_conv, filter_size=(5, 5),\n",
    "            nonlinearity=nonlinearity,\n",
    "            W=initializer())\n",
    "    # Expert note: Lasagne provides alternative convolutional layers that\n",
    "    # override Theano's choice of which implementation to use; for details\n",
    "    # please see http://lasagne.readthedocs.org/en/latest/user/tutorial.html.\n",
    "\n",
    "    # Max-pooling layer of factor 2 in both dimensions:\n",
    "    network = lasagne.layers.MaxPool2DLayer(network, pool_size=(2, 2))\n",
    "\n",
    "    # Another convolution with 32 5x5 kernels, and another 2x2 pooling:\n",
    "    network = lasagne.layers.Conv2DLayer(\n",
    "            network, num_filters=2 * num_conv, filter_size=(5, 5),\n",
    "            nonlinearity=nonlinearity,\n",
    "            W=initializer())\n",
    "    network = lasagne.layers.MaxPool2DLayer(network, pool_size=(2, 2))\n",
    "\n",
    "    # A fully-connected layer of 256 units with 50% dropout on its inputs:\n",
    "    network = lasagne.layers.DenseLayer(\n",
    "            network,\n",
    "            num_units=mid_neurons,\n",
    "            nonlinearity=nonlinearity,\n",
    "            W=initializer())\n",
    "\n",
    "    # And, finally, the 10-unit output layer with 50% dropout on its inputs:\n",
    "    network = lasagne.layers.DenseLayer(\n",
    "            network,\n",
    "            num_units=10,\n",
    "            nonlinearity=lasagne.nonlinearities.softmax)\n",
    "\n",
    "    return network"
   ]
  },
  {
   "cell_type": "markdown",
   "metadata": {},
   "source": [
    "# CNN baseline: 99%"
   ]
  },
  {
   "cell_type": "code",
   "execution_count": 5,
   "metadata": {
    "collapsed": true
   },
   "outputs": [],
   "source": [
    "num_conv = 32\n",
    "mid_neurons = 256"
   ]
  },
  {
   "cell_type": "code",
   "execution_count": 6,
   "metadata": {
    "collapsed": true
   },
   "outputs": [],
   "source": [
    "def train_and_eval( model, train_x, train_y, test_x, test_y ):\n",
    "    model.fit( train_x, train_y )\n",
    "    p = model.predict( test_x )\n",
    "    OA = sum(test_y==p)/len(test_y)\n",
    "    return OA\n",
    "\n",
    "class RandomCNN(object):\n",
    "    \n",
    "    def __init__(self):\n",
    "        self.svm_acc = []\n",
    "        self.lr_acc = []\n",
    "        \n",
    "    def experiment(self,initializer, nonlinearity):\n",
    "        input_var = T.tensor4('inputs')\n",
    "        target_var = T.ivector('targets')\n",
    "        network = build_cnn(input_var, num_conv, mid_neurons,initializer,nonlinearity)\n",
    "        feature_layer = lasagne.layers.get_all_layers(network)[-2]\n",
    "        feature = lasagne.layers.get_output(feature_layer, deterministic=True)\n",
    "        feature_fn = theano.function([input_var], feature)\n",
    "        train_data = np.zeros((50000,mid_neurons))\n",
    "        test_data = np.zeros((10000,mid_neurons))\n",
    "        i = 0\n",
    "        for batch in iterate_minibatches(X_train, y_train, 500, shuffle=False):\n",
    "            inputs, targets = batch\n",
    "            out = feature_fn(inputs)\n",
    "            train_data[i*500:(i+1)*500,:] = out\n",
    "            i += 1\n",
    "        i = 0\n",
    "        for batch in iterate_minibatches(X_test, y_test, 500, shuffle=False):\n",
    "            inputs, targets = batch\n",
    "            out = feature_fn(inputs)\n",
    "            test_data[i*500:(i+1)*500,:] = out\n",
    "            i += 1\n",
    "        lr = LR(C=1)\n",
    "        lr_auc = train_and_eval( lr, train_data, y_train, \\\n",
    "            test_data, y_test )\n",
    "        self.lr_acc.append(lr_auc)\n",
    "        svm=sklearn.svm.SVC(kernel='linear',C=1,shrinking=False)\n",
    "        svm_auc = train_and_eval( svm, train_data, y_train, \\\n",
    "            test_data, y_test )\n",
    "        self.svm_acc.append(svm_auc)\n",
    "        print(\"lr accuracy:\\t\\t{:.2f} %  svm accuracy:\\t\\t{:.2f} %\".format(100*lr_auc,100*svm_auc))\n",
    "        "
   ]
  },
  {
   "cell_type": "code",
   "execution_count": 7,
   "metadata": {
    "collapsed": false
   },
   "outputs": [
    {
     "name": "stdout",
     "output_type": "stream",
     "text": [
      "lr accuracy:\t\t47.80 %  svm accuracy:\t\t11.35 %\n",
      "lr accuracy:\t\t29.06 %  svm accuracy:\t\t11.35 %\n",
      "lr accuracy:\t\t44.71 %  svm accuracy:\t\t11.35 %\n",
      "lr accuracy:\t\t43.08 %  svm accuracy:\t\t11.35 %\n",
      "lr accuracy:\t\t40.81 %  svm accuracy:\t\t11.35 %\n"
     ]
    }
   ],
   "source": [
    "randc = RandomCNN()\n",
    "for i in range(5):\n",
    "    randc.experiment(initializer = lasagne.init.Normal,nonlinearity = lasagne.nonlinearities.rectify)"
   ]
  },
  {
   "cell_type": "code",
   "execution_count": 8,
   "metadata": {
    "collapsed": false
   },
   "outputs": [
    {
     "name": "stdout",
     "output_type": "stream",
     "text": [
      "lr accuracy:\t\t11.35 %  svm accuracy:\t\t11.35 %\n",
      "lr accuracy:\t\t11.35 %  svm accuracy:\t\t11.35 %\n",
      "lr accuracy:\t\t11.35 %  svm accuracy:\t\t11.35 %\n",
      "lr accuracy:\t\t11.35 %  svm accuracy:\t\t11.35 %\n",
      "lr accuracy:\t\t11.35 %  svm accuracy:\t\t11.35 %\n"
     ]
    }
   ],
   "source": [
    "for i in range(5):\n",
    "    randc.experiment(initializer = lasagne.init.Uniform,nonlinearity = lasagne.nonlinearities.rectify)"
   ]
  },
  {
   "cell_type": "code",
   "execution_count": 9,
   "metadata": {
    "collapsed": false
   },
   "outputs": [
    {
     "name": "stdout",
     "output_type": "stream",
     "text": [
      "lr accuracy:\t\t94.92 %  svm accuracy:\t\t96.13 %\n",
      "lr accuracy:\t\t95.24 %  svm accuracy:\t\t96.63 %\n",
      "lr accuracy:\t\t94.79 %  svm accuracy:\t\t96.36 %\n",
      "lr accuracy:\t\t95.50 %  svm accuracy:\t\t96.67 %\n",
      "lr accuracy:\t\t94.94 %  svm accuracy:\t\t96.26 %\n"
     ]
    }
   ],
   "source": [
    "for i in range(5):\n",
    "    randc.experiment(initializer = lasagne.init.Orthogonal,nonlinearity = lasagne.nonlinearities.rectify)"
   ]
  },
  {
   "cell_type": "code",
   "execution_count": 10,
   "metadata": {
    "collapsed": false
   },
   "outputs": [
    {
     "name": "stdout",
     "output_type": "stream",
     "text": [
      "lr accuracy:\t\t11.35 %  svm accuracy:\t\t11.35 %\n",
      "lr accuracy:\t\t11.35 %  svm accuracy:\t\t11.35 %\n",
      "lr accuracy:\t\t11.35 %  svm accuracy:\t\t11.35 %\n",
      "lr accuracy:\t\t11.35 %  svm accuracy:\t\t11.35 %\n",
      "lr accuracy:\t\t11.35 %  svm accuracy:\t\t11.35 %\n"
     ]
    }
   ],
   "source": [
    "for i in range(5):\n",
    "    randc.experiment(initializer = lasagne.init.Normal,nonlinearity = lasagne.nonlinearities.sigmoid)"
   ]
  },
  {
   "cell_type": "code",
   "execution_count": 11,
   "metadata": {
    "collapsed": false
   },
   "outputs": [
    {
     "name": "stdout",
     "output_type": "stream",
     "text": [
      "lr accuracy:\t\t11.35 %  svm accuracy:\t\t11.35 %\n",
      "lr accuracy:\t\t11.35 %  svm accuracy:\t\t11.35 %\n",
      "lr accuracy:\t\t11.35 %  svm accuracy:\t\t11.35 %\n",
      "lr accuracy:\t\t11.35 %  svm accuracy:\t\t11.35 %\n",
      "lr accuracy:\t\t11.35 %  svm accuracy:\t\t11.35 %\n"
     ]
    }
   ],
   "source": [
    "for i in range(5):\n",
    "    randc.experiment(initializer = lasagne.init.Uniform,nonlinearity = lasagne.nonlinearities.sigmoid)"
   ]
  },
  {
   "cell_type": "code",
   "execution_count": 12,
   "metadata": {
    "collapsed": false
   },
   "outputs": [
    {
     "name": "stdout",
     "output_type": "stream",
     "text": [
      "lr accuracy:\t\t83.73 %  svm accuracy:\t\t88.69 %\n",
      "lr accuracy:\t\t83.21 %  svm accuracy:\t\t88.10 %\n",
      "lr accuracy:\t\t84.00 %  svm accuracy:\t\t89.33 %\n",
      "lr accuracy:\t\t83.82 %  svm accuracy:\t\t88.68 %\n",
      "lr accuracy:\t\t82.23 %  svm accuracy:\t\t88.49 %\n"
     ]
    }
   ],
   "source": [
    "for i in range(5):\n",
    "    randc.experiment(initializer = lasagne.init.Orthogonal,nonlinearity = lasagne.nonlinearities.sigmoid)"
   ]
  },
  {
   "cell_type": "code",
   "execution_count": null,
   "metadata": {
    "collapsed": false
   },
   "outputs": [
    {
     "name": "stdout",
     "output_type": "stream",
     "text": [
      "lr accuracy:\t\t68.63 %  svm accuracy:\t\t46.55 %\n",
      "lr accuracy:\t\t69.41 %  svm accuracy:\t\t46.23 %\n",
      "lr accuracy:\t\t71.46 %  svm accuracy:\t\t63.50 %\n",
      "lr accuracy:\t\t72.17 %  svm accuracy:\t\t60.17 %\n",
      "lr accuracy:\t\t70.87 %  svm accuracy:\t\t59.27 %\n"
     ]
    }
   ],
   "source": [
    "for i in range(5):\n",
    "    randc.experiment(initializer = lasagne.init.Normal,nonlinearity = lasagne.nonlinearities.tanh)"
   ]
  },
  {
   "cell_type": "code",
   "execution_count": null,
   "metadata": {
    "collapsed": true
   },
   "outputs": [],
   "source": [
    "for i in range(5):\n",
    "    randc.experiment(initializer = lasagne.init.Uniform,nonlinearity = lasagne.nonlinearities.tanh)"
   ]
  },
  {
   "cell_type": "code",
   "execution_count": null,
   "metadata": {
    "collapsed": true
   },
   "outputs": [],
   "source": [
    "for i in range(5):\n",
    "    randc.experiment(initializer = lasagne.init.Orthogonal,nonlinearity = lasagne.nonlinearities.tanh)"
   ]
  },
  {
   "cell_type": "code",
   "execution_count": null,
   "metadata": {
    "collapsed": true
   },
   "outputs": [],
   "source": []
  }
 ],
 "metadata": {
  "kernelspec": {
   "display_name": "Python 3",
   "language": "python",
   "name": "python3"
  },
  "language_info": {
   "codemirror_mode": {
    "name": "ipython",
    "version": 3
   },
   "file_extension": ".py",
   "mimetype": "text/x-python",
   "name": "python",
   "nbconvert_exporter": "python",
   "pygments_lexer": "ipython3",
   "version": "3.5.0"
  }
 },
 "nbformat": 4,
 "nbformat_minor": 0
}
