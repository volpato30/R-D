{
 "cells": [
  {
   "cell_type": "code",
   "execution_count": 1,
   "metadata": {
    "collapsed": false
   },
   "outputs": [
    {
     "name": "stderr",
     "output_type": "stream",
     "text": [
      "Using gpu device 0: TITAN X (Pascal) (CNMeM is disabled, cuDNN 5105)\n"
     ]
    }
   ],
   "source": [
    "import os\n",
    "import sys\n",
    "import timeit\n",
    "import numpy as np\n",
    "import theano\n",
    "import theano.tensor as T\n",
    "import lasagne\n",
    "from theano.tensor.signal import pool\n",
    "from theano.tensor.nnet import conv2d\n",
    "from logistic_sgd import load_data\n",
    "from lasagne.layers import get_output, InputLayer, DenseLayer, Upscale2DLayer, ReshapeLayer\n",
    "import gzip\n",
    "import pickle"
   ]
  },
  {
   "cell_type": "code",
   "execution_count": 2,
   "metadata": {
    "collapsed": false
   },
   "outputs": [],
   "source": [
    "batch_size = 1000\n",
    "f = gzip.open('/home/rui/Downloads/mnist.pkl.gz', 'rb')\n",
    "try:\n",
    "    train_set, valid_set, test_set = pickle.load(f, encoding='latin1')\n",
    "except:\n",
    "    train_set, valid_set, test_set = pickle.load(f)\n",
    "f.close()\n",
    "X_train, y_train = train_set\n",
    "y_train = np.asarray(y_train, dtype = np.int32)\n",
    "X_test, y_test = test_set\n",
    "y_test = np.asarray(y_test, dtype = np.int32)"
   ]
  },
  {
   "cell_type": "code",
   "execution_count": 3,
   "metadata": {
    "collapsed": false
   },
   "outputs": [],
   "source": [
    "def iterate_minibatches(inputs, targets, batchsize, shuffle=False):\n",
    "    assert len(inputs) == len(targets)\n",
    "    if shuffle:\n",
    "        indices = np.arange(len(inputs))\n",
    "        np.random.shuffle(indices)\n",
    "    for start_idx in range(0, len(inputs) - batchsize + 1, batchsize):\n",
    "        if shuffle:\n",
    "            excerpt = indices[start_idx:start_idx + batchsize]\n",
    "        else:\n",
    "            excerpt = slice(start_idx, start_idx + batchsize)\n",
    "        yield inputs[excerpt], targets[excerpt]\n",
    "\n"
   ]
  },
  {
   "cell_type": "code",
   "execution_count": 4,
   "metadata": {
    "collapsed": false
   },
   "outputs": [],
   "source": [
    "class LogisticRegression(object):\n",
    "    def __init__(self, X, y, num_units=10):\n",
    "        self.X = X\n",
    "        self.y = y\n",
    "        self.input_var = T.matrix('inputs')\n",
    "        self.target_var = T.ivector('targets')\n",
    "        self.l_in = InputLayer(shape=(None, X.shape[1]), input_var=self.input_var)\n",
    "        self.l_out = DenseLayer(self.l_in, num_units=num_units, nonlinearity=lasagne.nonlinearities.softmax)\n",
    "        self.prediction = lasagne.layers.get_output(self.l_out)\n",
    "        self.loss = lasagne.objectives.categorical_crossentropy(self.prediction, self.target_var)\n",
    "        self.loss = self.loss.mean()\n",
    "        self.params = lasagne.layers.get_all_params(self.l_out, trainable=True)\n",
    "        self.updates = lasagne.updates.adadelta(self.loss, self.params, learning_rate=1)\n",
    "        \n",
    "        self.test_prediction = lasagne.layers.get_output(self.l_out, deterministic=True)\n",
    "        self.test_loss = lasagne.objectives.categorical_crossentropy(self.test_prediction,\n",
    "                                                            self.target_var)\n",
    "        self.test_loss = self.test_loss.mean()\n",
    "        self.test_acc = T.mean(T.eq(T.argmax(self.test_prediction, axis=1), self.target_var),\n",
    "                      dtype=theano.config.floatX)\n",
    "        self.train_fn = theano.function([self.input_var, self.target_var],\n",
    "                                        self.loss, updates=self.updates)\n",
    "        self.acc_fn = theano.function([self.input_var, self.target_var], \n",
    "                                      self.test_acc)\n",
    "        self.train()\n",
    "        \n",
    "    def train(self, num_epochs=50, batch_size=1000):\n",
    "        for epoch in range(num_epochs):\n",
    "            train_err = 0\n",
    "            train_batches = 0\n",
    "            for batch in iterate_minibatches(self.X, self.y, batch_size, shuffle=False):\n",
    "                inputs, targets = batch\n",
    "                train_err += self.train_fn(inputs, targets)\n",
    "                train_batches += 1\n",
    "\n",
    "    def eval_acc(self, X_test, y_test):\n",
    "        test_acc = 0\n",
    "        test_batches = 0\n",
    "        for batch in iterate_minibatches(X_test, y_test, 1000, shuffle=False):\n",
    "            inputs, targets = batch\n",
    "            test_acc += self.acc_fn(inputs, targets)\n",
    "            test_batches += 1\n",
    "        self.test_acc = test_acc/test_batches\n",
    "        print('overall acc is: {}'.format(self.test_acc))"
   ]
  },
  {
   "cell_type": "code",
   "execution_count": 5,
   "metadata": {
    "collapsed": false
   },
   "outputs": [],
   "source": [
    "lr = LogisticRegression(X_train, y_train)"
   ]
  },
  {
   "cell_type": "markdown",
   "metadata": {},
   "source": [
    "# Logistic regression on original data"
   ]
  },
  {
   "cell_type": "code",
   "execution_count": 6,
   "metadata": {
    "collapsed": false
   },
   "outputs": [
    {
     "name": "stdout",
     "output_type": "stream",
     "text": [
      "overall acc is: 0.9245000064373017\n"
     ]
    }
   ],
   "source": [
    "lr.eval_acc(X_test, y_test)"
   ]
  },
  {
   "cell_type": "code",
   "execution_count": 7,
   "metadata": {
    "collapsed": true
   },
   "outputs": [],
   "source": [
    "acc_list = []\n",
    "benchmark_acc = lr.test_acc\n",
    "acc_list.append(lr.test_acc)"
   ]
  },
  {
   "cell_type": "code",
   "execution_count": 8,
   "metadata": {
    "collapsed": false
   },
   "outputs": [],
   "source": [
    "hidden_neurons = 512\n",
    "\n",
    "input_var = T.matrix('inputs')\n",
    "target_var = T.ivector('target')\n",
    "l_in = InputLayer(shape=(None, 784), input_var=input_var)\n",
    "pre_layer = l_in\n",
    "hidden_layer_list = []\n",
    "for i in range(20):\n",
    "    h_layer = DenseLayer(pre_layer, num_units=hidden_neurons)\n",
    "    hidden_layer_list.append(h_layer)\n",
    "    pre_layer = h_layer\n",
    "output_list = lasagne.layers.get_output(hidden_layer_list)\n",
    "output_fn = theano.function([input_var], output_list)"
   ]
  },
  {
   "cell_type": "code",
   "execution_count": 9,
   "metadata": {
    "collapsed": true
   },
   "outputs": [],
   "source": [
    "feature_list = output_fn(X_train)"
   ]
  },
  {
   "cell_type": "code",
   "execution_count": 10,
   "metadata": {
    "collapsed": true
   },
   "outputs": [],
   "source": [
    "test_feature_list = output_fn(X_test)"
   ]
  },
  {
   "cell_type": "code",
   "execution_count": 11,
   "metadata": {
    "collapsed": false
   },
   "outputs": [
    {
     "name": "stdout",
     "output_type": "stream",
     "text": [
      "hidden layer 1:\n",
      "overall acc is: 0.9353999972343445\n",
      "hidden layer 2:\n",
      "overall acc is: 0.9217000007629395\n",
      "hidden layer 3:\n",
      "overall acc is: 0.8981999933719635\n",
      "hidden layer 4:\n",
      "overall acc is: 0.8653999984264373\n",
      "hidden layer 5:\n",
      "overall acc is: 0.8254999995231629\n",
      "hidden layer 6:\n",
      "overall acc is: 0.7629000067710876\n",
      "hidden layer 7:\n",
      "overall acc is: 0.6960999965667725\n",
      "hidden layer 8:\n",
      "overall acc is: 0.5989999949932099\n",
      "hidden layer 9:\n",
      "overall acc is: 0.4825999945402145\n",
      "hidden layer 10:\n",
      "overall acc is: 0.3836999982595444\n",
      "hidden layer 11:\n",
      "overall acc is: 0.2966999977827072\n",
      "hidden layer 12:\n",
      "overall acc is: 0.23200000077486038\n",
      "hidden layer 13:\n",
      "overall acc is: 0.19659999907016754\n",
      "hidden layer 14:\n",
      "overall acc is: 0.1588000014424324\n",
      "hidden layer 15:\n",
      "overall acc is: 0.12190000116825103\n",
      "hidden layer 16:\n",
      "overall acc is: 0.1135000005364418\n",
      "hidden layer 17:\n",
      "overall acc is: 0.1135000005364418\n",
      "hidden layer 18:\n",
      "overall acc is: 0.1135000005364418\n",
      "hidden layer 19:\n",
      "overall acc is: 0.1135000005364418\n",
      "hidden layer 20:\n",
      "overall acc is: 0.1135000005364418\n"
     ]
    }
   ],
   "source": [
    "for i in range(20):\n",
    "    X = feature_list[i]\n",
    "    lr = LogisticRegression(X, y_train)\n",
    "    print('hidden layer {}:'.format(i+1))\n",
    "    lr.eval_acc(test_feature_list[i], y_test)\n",
    "    acc_list.append(lr.test_acc)"
   ]
  },
  {
   "cell_type": "code",
   "execution_count": 12,
   "metadata": {
    "collapsed": true
   },
   "outputs": [],
   "source": [
    "acc_list = np.asarray(acc_list)\n",
    "err = 1-acc_list"
   ]
  },
  {
   "cell_type": "markdown",
   "metadata": {},
   "source": [
    "# Notice that inserting a hidden layer(even the weights are random) helps to train a better classifier"
   ]
  },
  {
   "cell_type": "code",
   "execution_count": 15,
   "metadata": {
    "collapsed": false
   },
   "outputs": [
    {
     "data": {
      "image/png": "[encoded data removed]",
      "text/plain": [
       "<matplotlib.figure.Figure at 0x7fe3bdb68940>"
      ]
     },
     "metadata": {},
     "output_type": "display_data"
    }
   ],
   "source": [
    "import matplotlib.pyplot as plt\n",
    "%matplotlib inline\n",
    "plt.plot(np.arange(1,len(err)+1),err)\n",
    "plt.title('512 hidden neurons in each layer')\n",
    "plt.ylabel('error rate')\n",
    "plt.savefig('512_err.png')"
   ]
  },
  {
   "cell_type": "code",
   "execution_count": 17,
   "metadata": {
    "collapsed": false
   },
   "outputs": [
    {
     "name": "stdout",
     "output_type": "stream",
     "text": [
      "hidden layer 1:\n",
      "overall acc is: 0.9482000052928925\n",
      "hidden layer 2:\n",
      "overall acc is: 0.9409999966621398\n",
      "hidden layer 3:\n",
      "overall acc is: 0.9241000056266785\n",
      "hidden layer 4:\n",
      "overall acc is: 0.8979999959468842\n",
      "hidden layer 5:\n",
      "overall acc is: 0.8684000134468078\n",
      "hidden layer 6:\n",
      "overall acc is: 0.8269000113010406\n",
      "hidden layer 7:\n",
      "overall acc is: 0.7857000052928924\n",
      "hidden layer 8:\n",
      "overall acc is: 0.7194000005722045\n",
      "hidden layer 9:\n",
      "overall acc is: 0.6337000072002411\n",
      "hidden layer 10:\n",
      "overall acc is: 0.5254999905824661\n",
      "hidden layer 11:\n",
      "overall acc is: 0.40840000212192534\n",
      "hidden layer 12:\n",
      "overall acc is: 0.2996000021696091\n",
      "hidden layer 13:\n",
      "overall acc is: 0.2201999992132187\n",
      "hidden layer 14:\n",
      "overall acc is: 0.17559999972581863\n",
      "hidden layer 15:\n",
      "overall acc is: 0.13269999995827675\n",
      "hidden layer 16:\n",
      "overall acc is: 0.1135000005364418\n",
      "hidden layer 17:\n",
      "overall acc is: 0.1135000005364418\n",
      "hidden layer 18:\n",
      "overall acc is: 0.1135000005364418\n",
      "hidden layer 19:\n",
      "overall acc is: 0.1135000005364418\n",
      "hidden layer 20:\n",
      "overall acc is: 0.1135000005364418\n"
     ]
    },
    {
     "data": {
      "image/png": "[encoded data removed]",
      "text/plain": [
       "<matplotlib.figure.Figure at 0x7fe3bc1b74e0>"
      ]
     },
     "metadata": {},
     "output_type": "display_data"
    }
   ],
   "source": [
    "hidden_neurons = 1024\n",
    "\n",
    "acc_list = []\n",
    "acc_list.append(benchmark_acc)\n",
    "input_var = T.matrix('inputs')\n",
    "target_var = T.ivector('target')\n",
    "l_in = InputLayer(shape=(None, 784), input_var=input_var)\n",
    "pre_layer = l_in\n",
    "hidden_layer_list = []\n",
    "for i in range(20):\n",
    "    h_layer = DenseLayer(pre_layer, num_units=hidden_neurons)\n",
    "    hidden_layer_list.append(h_layer)\n",
    "    pre_layer = h_layer\n",
    "output_list = lasagne.layers.get_output(hidden_layer_list)\n",
    "output_fn = theano.function([input_var], output_list)\n",
    "feature_list = output_fn(X_train)\n",
    "test_feature_list = output_fn(X_test)\n",
    "for i in range(20):\n",
    "    X = feature_list[i]\n",
    "    lr = LogisticRegression(X, y_train)\n",
    "    print('hidden layer {}:'.format(i+1))\n",
    "    lr.eval_acc(test_feature_list[i], y_test)\n",
    "    acc_list.append(lr.test_acc)\n",
    "acc_list = np.asarray(acc_list)\n",
    "err = 1-acc_list\n",
    "import matplotlib.pyplot as plt\n",
    "%matplotlib inline\n",
    "plt.plot(np.arange(1,len(err)+1),err)\n",
    "plt.title('{} hidden neurons in each layer'.format(hidden_neurons))\n",
    "plt.ylabel('error rate')\n",
    "plt.savefig('{}_err.png'.format(hidden_neurons))"
   ]
  },
  {
   "cell_type": "code",
   "execution_count": null,
   "metadata": {
    "collapsed": true
   },
   "outputs": [],
   "source": []
  }
 ],
 "metadata": {
  "kernelspec": {
   "display_name": "Python 3",
   "language": "python",
   "name": "python3"
  },
  "language_info": {
   "codemirror_mode": {
    "name": "ipython",
    "version": 3
   },
   "file_extension": ".py",
   "mimetype": "text/x-python",
   "name": "python",
   "nbconvert_exporter": "python",
   "pygments_lexer": "ipython3",
   "version": "3.5.2"
  }
 },
 "nbformat": 4,
 "nbformat_minor": 1
}
